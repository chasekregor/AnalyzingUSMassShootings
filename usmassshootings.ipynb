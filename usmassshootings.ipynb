{
 "cells": [
  {
   "cell_type": "markdown",
   "metadata": {},
   "source": [
    "# An Exploratory Data Analysis of Mass Shootings in The United States  *created by Chase Kregor*"
   ]
  },
  {
   "cell_type": "markdown",
   "metadata": {},
   "source": [
    "<a name='start' />"
   ]
  },
  {
   "cell_type": "markdown",
   "metadata": {},
   "source": [
    "** Purpose:** \n",
    "\n",
    " \n",
    "To have a better understanding of mass shootings in the US. I decided to answer all the questions in the Inspiration Section on Kaggle. \n",
    "\n",
    "** Dataset:**\n",
    "\n",
    "The dataset contains detailed information of 398 mass shootings in the United States from 1966 to 2017.\n",
    "\n",
    "** Source: **\n",
    "[https://www.kaggle.com/zusmani/us-mass-shootings-last-50-years](https://www.kaggle.com/zusmani/us-mass-shootings-last-50-years)"
   ]
  },
  {
   "cell_type": "markdown",
   "metadata": {},
   "source": [
    "** Topics & Bookmarks: **\n",
    "1. <a href=#start>The Top of The Notebook</a>\n",
    "2. <a href=#peoplekilled>How many people were killed and injured per year? </a>\n",
    "3. <a href=#viz>Visualize mass shootings on the U.S map</a>\n",
    "4. <a href=#shootercorrelation>Is there any correlation between shooter and his/her race, gender? </a>\n",
    "5. <a href=#timingcorrelation>Any correlation with calendar dates? Do we have more deadly days, weeks or months on average?</a>\n",
    "6. <a href=#citiesstates>What cities and states are more prone to such attacks? </a>\n",
    "7. <a href=#otherdata>Can you find and combine any other external datasets to enrich the analysis, for example, gun ownership by state? </a>\n",
    "8. <a href=#otherpattern>Any other pattern you see that can help in prediction, crowd safety or in-depth analysis of the event? </a>\n",
    "9. <a href=#mentalhealth> How many shooters have some kind of mental health problem? Can we compare that shooter with general population with same condition? </a>\n",
    "10. <a href=#end>Final Results & Closing Thoughts</a>"
   ]
  },
  {
   "cell_type": "code",
   "execution_count": 2,
   "metadata": {
    "collapsed": true
   },
   "outputs": [],
   "source": [
    "import pandas as pd\n",
    "import numpy as np\n",
    "import matplotlib.pyplot as plt\n",
    "import matplotlib.style as style\n",
    "style.use('fivethirtyeight')"
   ]
  },
  {
   "cell_type": "code",
   "execution_count": 3,
   "metadata": {},
   "outputs": [
    {
     "data": {
      "text/html": [
       "<div>\n",
       "<style scoped>\n",
       "    .dataframe tbody tr th:only-of-type {\n",
       "        vertical-align: middle;\n",
       "    }\n",
       "\n",
       "    .dataframe tbody tr th {\n",
       "        vertical-align: top;\n",
       "    }\n",
       "\n",
       "    .dataframe thead th {\n",
       "        text-align: right;\n",
       "    }\n",
       "</style>\n",
       "<table border=\"1\" class=\"dataframe\">\n",
       "  <thead>\n",
       "    <tr style=\"text-align: right;\">\n",
       "      <th></th>\n",
       "      <th>S#</th>\n",
       "      <th>Title</th>\n",
       "      <th>Location</th>\n",
       "      <th>Date</th>\n",
       "      <th>Incident Area</th>\n",
       "      <th>Open/Close Location</th>\n",
       "      <th>Target</th>\n",
       "      <th>Cause</th>\n",
       "      <th>Summary</th>\n",
       "      <th>Fatalities</th>\n",
       "      <th>...</th>\n",
       "      <th>Total victims</th>\n",
       "      <th>Policeman Killed</th>\n",
       "      <th>Age</th>\n",
       "      <th>Employeed (Y/N)</th>\n",
       "      <th>Employed at</th>\n",
       "      <th>Mental Health Issues</th>\n",
       "      <th>Race</th>\n",
       "      <th>Gender</th>\n",
       "      <th>Latitude</th>\n",
       "      <th>Longitude</th>\n",
       "    </tr>\n",
       "  </thead>\n",
       "  <tbody>\n",
       "    <tr>\n",
       "      <th>0</th>\n",
       "      <td>1</td>\n",
       "      <td>Texas church mass shooting</td>\n",
       "      <td>Sutherland Springs, TX</td>\n",
       "      <td>11/5/17</td>\n",
       "      <td>Church</td>\n",
       "      <td>Close</td>\n",
       "      <td>random</td>\n",
       "      <td>unknown</td>\n",
       "      <td>Devin Patrick Kelley, 26, an ex-air force offi...</td>\n",
       "      <td>26</td>\n",
       "      <td>...</td>\n",
       "      <td>46</td>\n",
       "      <td>0.0</td>\n",
       "      <td>26</td>\n",
       "      <td>NaN</td>\n",
       "      <td>NaN</td>\n",
       "      <td>No</td>\n",
       "      <td>White</td>\n",
       "      <td>M</td>\n",
       "      <td>NaN</td>\n",
       "      <td>NaN</td>\n",
       "    </tr>\n",
       "    <tr>\n",
       "      <th>1</th>\n",
       "      <td>2</td>\n",
       "      <td>Walmart shooting in suburban Denver</td>\n",
       "      <td>Thornton, CO</td>\n",
       "      <td>11/1/17</td>\n",
       "      <td>Wal-Mart</td>\n",
       "      <td>Open</td>\n",
       "      <td>random</td>\n",
       "      <td>unknown</td>\n",
       "      <td>Scott Allen Ostrem, 47, walked into a Walmart ...</td>\n",
       "      <td>3</td>\n",
       "      <td>...</td>\n",
       "      <td>3</td>\n",
       "      <td>0.0</td>\n",
       "      <td>47</td>\n",
       "      <td>NaN</td>\n",
       "      <td>NaN</td>\n",
       "      <td>No</td>\n",
       "      <td>White</td>\n",
       "      <td>M</td>\n",
       "      <td>NaN</td>\n",
       "      <td>NaN</td>\n",
       "    </tr>\n",
       "    <tr>\n",
       "      <th>2</th>\n",
       "      <td>3</td>\n",
       "      <td>Edgewood businees park shooting</td>\n",
       "      <td>Edgewood, MD</td>\n",
       "      <td>10/18/17</td>\n",
       "      <td>Remodeling Store</td>\n",
       "      <td>Close</td>\n",
       "      <td>coworkers</td>\n",
       "      <td>unknown</td>\n",
       "      <td>Radee Labeeb Prince, 37, fatally shot three pe...</td>\n",
       "      <td>3</td>\n",
       "      <td>...</td>\n",
       "      <td>6</td>\n",
       "      <td>0.0</td>\n",
       "      <td>37</td>\n",
       "      <td>NaN</td>\n",
       "      <td>Advance Granite Store</td>\n",
       "      <td>No</td>\n",
       "      <td>Black</td>\n",
       "      <td>M</td>\n",
       "      <td>NaN</td>\n",
       "      <td>NaN</td>\n",
       "    </tr>\n",
       "    <tr>\n",
       "      <th>3</th>\n",
       "      <td>4</td>\n",
       "      <td>Las Vegas Strip mass shooting</td>\n",
       "      <td>Las Vegas, NV</td>\n",
       "      <td>10/1/17</td>\n",
       "      <td>Las Vegas Strip Concert outside Mandala Bay</td>\n",
       "      <td>Open</td>\n",
       "      <td>random</td>\n",
       "      <td>unknown</td>\n",
       "      <td>Stephen Craig Paddock, opened fire from the 32...</td>\n",
       "      <td>59</td>\n",
       "      <td>...</td>\n",
       "      <td>585</td>\n",
       "      <td>1.0</td>\n",
       "      <td>64</td>\n",
       "      <td>NaN</td>\n",
       "      <td>NaN</td>\n",
       "      <td>Unclear</td>\n",
       "      <td>White</td>\n",
       "      <td>M</td>\n",
       "      <td>36.181271</td>\n",
       "      <td>-115.134132</td>\n",
       "    </tr>\n",
       "    <tr>\n",
       "      <th>4</th>\n",
       "      <td>5</td>\n",
       "      <td>San Francisco UPS shooting</td>\n",
       "      <td>San Francisco, CA</td>\n",
       "      <td>6/14/17</td>\n",
       "      <td>UPS facility</td>\n",
       "      <td>Close</td>\n",
       "      <td>coworkers</td>\n",
       "      <td>NaN</td>\n",
       "      <td>Jimmy Lam, 38, fatally shot three coworkers an...</td>\n",
       "      <td>3</td>\n",
       "      <td>...</td>\n",
       "      <td>5</td>\n",
       "      <td>0.0</td>\n",
       "      <td>38</td>\n",
       "      <td>1.0</td>\n",
       "      <td>NaN</td>\n",
       "      <td>Yes</td>\n",
       "      <td>Asian</td>\n",
       "      <td>M</td>\n",
       "      <td>NaN</td>\n",
       "      <td>NaN</td>\n",
       "    </tr>\n",
       "  </tbody>\n",
       "</table>\n",
       "<p>5 rows × 21 columns</p>\n",
       "</div>"
      ],
      "text/plain": [
       "   S#                                Title                Location      Date  \\\n",
       "0   1           Texas church mass shooting  Sutherland Springs, TX   11/5/17   \n",
       "1   2  Walmart shooting in suburban Denver            Thornton, CO   11/1/17   \n",
       "2   3      Edgewood businees park shooting            Edgewood, MD  10/18/17   \n",
       "3   4        Las Vegas Strip mass shooting           Las Vegas, NV   10/1/17   \n",
       "4   5           San Francisco UPS shooting       San Francisco, CA   6/14/17   \n",
       "\n",
       "                                 Incident Area Open/Close Location     Target  \\\n",
       "0                                       Church               Close     random   \n",
       "1                                     Wal-Mart                Open     random   \n",
       "2                             Remodeling Store               Close  coworkers   \n",
       "3  Las Vegas Strip Concert outside Mandala Bay                Open     random   \n",
       "4                                 UPS facility               Close  coworkers   \n",
       "\n",
       "     Cause                                            Summary  Fatalities  \\\n",
       "0  unknown  Devin Patrick Kelley, 26, an ex-air force offi...          26   \n",
       "1  unknown  Scott Allen Ostrem, 47, walked into a Walmart ...           3   \n",
       "2  unknown  Radee Labeeb Prince, 37, fatally shot three pe...           3   \n",
       "3  unknown  Stephen Craig Paddock, opened fire from the 32...          59   \n",
       "4      NaN  Jimmy Lam, 38, fatally shot three coworkers an...           3   \n",
       "\n",
       "      ...      Total victims  Policeman Killed  Age Employeed (Y/N)  \\\n",
       "0     ...                 46               0.0   26             NaN   \n",
       "1     ...                  3               0.0   47             NaN   \n",
       "2     ...                  6               0.0   37             NaN   \n",
       "3     ...                585               1.0   64             NaN   \n",
       "4     ...                  5               0.0   38             1.0   \n",
       "\n",
       "             Employed at Mental Health Issues   Race Gender   Latitude  \\\n",
       "0                    NaN                   No  White      M        NaN   \n",
       "1                    NaN                   No  White      M        NaN   \n",
       "2  Advance Granite Store                   No  Black      M        NaN   \n",
       "3                    NaN              Unclear  White      M  36.181271   \n",
       "4                    NaN                  Yes  Asian      M        NaN   \n",
       "\n",
       "    Longitude  \n",
       "0         NaN  \n",
       "1         NaN  \n",
       "2         NaN  \n",
       "3 -115.134132  \n",
       "4         NaN  \n",
       "\n",
       "[5 rows x 21 columns]"
      ]
     },
     "execution_count": 3,
     "metadata": {},
     "output_type": "execute_result"
    }
   ],
   "source": [
    "data = pd.read_csv('Mass Shootings Dataset Ver 5.csv')\n",
    "data.head()"
   ]
  },
  {
   "cell_type": "code",
   "execution_count": 4,
   "metadata": {},
   "outputs": [
    {
     "name": "stdout",
     "output_type": "stream",
     "text": [
      "<class 'pandas.core.frame.DataFrame'>\n",
      "RangeIndex: 323 entries, 0 to 322\n",
      "Data columns (total 21 columns):\n",
      "S#                      323 non-null int64\n",
      "Title                   323 non-null object\n",
      "Location                278 non-null object\n",
      "Date                    323 non-null object\n",
      "Incident Area           261 non-null object\n",
      "Open/Close Location     295 non-null object\n",
      "Target                  318 non-null object\n",
      "Cause                   246 non-null object\n",
      "Summary                 323 non-null object\n",
      "Fatalities              323 non-null int64\n",
      "Injured                 323 non-null int64\n",
      "Total victims           323 non-null int64\n",
      "Policeman Killed        317 non-null float64\n",
      "Age                     179 non-null object\n",
      "Employeed (Y/N)         67 non-null float64\n",
      "Employed at             41 non-null object\n",
      "Mental Health Issues    323 non-null object\n",
      "Race                    321 non-null object\n",
      "Gender                  323 non-null object\n",
      "Latitude                303 non-null float64\n",
      "Longitude               303 non-null float64\n",
      "dtypes: float64(4), int64(4), object(13)\n",
      "memory usage: 53.1+ KB\n"
     ]
    }
   ],
   "source": [
    "data.info()"
   ]
  },
  {
   "cell_type": "markdown",
   "metadata": {},
   "source": [
    "# 2: How many people were killed and injured per year?<a name='peoplekilled' />"
   ]
  },
  {
   "cell_type": "code",
   "execution_count": 5,
   "metadata": {
    "collapsed": true
   },
   "outputs": [],
   "source": [
    "fatalities = data ['Fatalities'].sum()\n",
    "injured = data['Injured'].sum()"
   ]
  },
  {
   "cell_type": "code",
   "execution_count": 6,
   "metadata": {
    "collapsed": true
   },
   "outputs": [],
   "source": [
    "fperyr = fatalities / 51\n",
    "iperyr = injured / 51 "
   ]
  },
  {
   "cell_type": "code",
   "execution_count": 7,
   "metadata": {},
   "outputs": [
    {
     "name": "stdout",
     "output_type": "stream",
     "text": [
      "From 1966 to 2017 there have been\n",
      "1433.000000 fatalities from mass shootings\n",
      "1995.000000 injuries from mass shootings\n"
     ]
    }
   ],
   "source": [
    "print(\"From 1966 to 2017 there have been\")\n",
    "print(\"%f fatalities from mass shootings\" % (fatalities))\n",
    "print(\"%f injuries from mass shootings\" % (injured))"
   ]
  },
  {
   "cell_type": "code",
   "execution_count": 8,
   "metadata": {},
   "outputs": [
    {
     "name": "stdout",
     "output_type": "stream",
     "text": [
      "That means there have been\n",
      "28.098039 fatalities due to mass shootings per year\n",
      "and\n",
      "39.117647 people injured due to mass shootings per year\n"
     ]
    }
   ],
   "source": [
    "print(\"That means there have been\")\n",
    "print(\"%f fatalities due to mass shootings per year\"% (fperyr))\n",
    "print(\"and\")\n",
    "print(\"%f people injured due to mass shootings per year\" % (iperyr))"
   ]
  },
  {
   "cell_type": "markdown",
   "metadata": {},
   "source": [
    "# 3: Visualize mass shootings on the U.S map <a name='viz' />"
   ]
  },
  {
   "cell_type": "markdown",
   "metadata": {},
   "source": [
    "There arent many great python languages for US Maps. At least non that I currently understand. For the sake of time I completed this task on the popular WISIYG (What You See Is What You Get) Data Visualization Tool [Tableau](https://www.tableau.com/)."
   ]
  },
  {
   "cell_type": "markdown",
   "metadata": {},
   "source": [
    "<img src=\"usmassshootings.png\">"
   ]
  },
  {
   "cell_type": "markdown",
   "metadata": {},
   "source": [
    "# 4: Is there any correlation between shooter and his/her race, gender?<a name='shootercorrelation' />"
   ]
  },
  {
   "cell_type": "markdown",
   "metadata": {},
   "source": [
    "Instead of finding the r values for the various shooter attributes I came up with some visualizations to understand shooter distributions."
   ]
  },
  {
   "cell_type": "markdown",
   "metadata": {},
   "source": [
    "** RACE: **"
   ]
  },
  {
   "cell_type": "code",
   "execution_count": 9,
   "metadata": {},
   "outputs": [
    {
     "data": {
      "text/plain": [
       "White American or European American                    122\n",
       "Black American or African American                      76\n",
       "Unknown                                                 42\n",
       "Some other race                                         20\n",
       "white                                                   12\n",
       "Asian American                                          11\n",
       "White                                                    9\n",
       "Asian                                                    6\n",
       "Black                                                    5\n",
       "Latino                                                   5\n",
       "Native American or Alaska Native                         3\n",
       "black                                                    3\n",
       "Two or more races                                        2\n",
       "Other                                                    2\n",
       "Asian American/Some other race                           1\n",
       "Black American or African American/Unknown               1\n",
       "White American or European American/Some other Race      1\n",
       "Name: Race, dtype: int64"
      ]
     },
     "execution_count": 9,
     "metadata": {},
     "output_type": "execute_result"
    }
   ],
   "source": [
    "data['Race'].value_counts()"
   ]
  },
  {
   "cell_type": "markdown",
   "metadata": {},
   "source": [
    "** Need to categorize all the different races into reasonable categories **"
   ]
  },
  {
   "cell_type": "code",
   "execution_count": 10,
   "metadata": {},
   "outputs": [
    {
     "data": {
      "text/plain": [
       "White American or European American    149\n",
       "Black American or African American      84\n",
       "Unknown                                 62\n",
       "Asian American                          11\n",
       "Two or more races                        7\n",
       "Latino                                   5\n",
       "Native American or Alaska Native         3\n",
       "Name: Race, dtype: int64"
      ]
     },
     "execution_count": 10,
     "metadata": {},
     "output_type": "execute_result"
    }
   ],
   "source": [
    "data['Race'] = data['Race'].replace(['Some other race'], ['Unknown'])\n",
    "data['Race'] = data['Race'].replace(['white'], ['White American or European American'])\n",
    "data['Race'] = data['Race'].replace(['White'], ['White American or European American'])\n",
    "data['Race'] = data['Race'].replace(['Asian'], ['White American or European American'])\n",
    "data['Race'] = data['Race'].replace(['Black'], ['Black American or African American'])\n",
    "data['Race'] = data['Race'].replace(['black'], ['Black American or African American'])\n",
    "data['Race'] = data['Race'].replace(['White American or European American/Some other Race'], ['Two or more races'])\n",
    "data['Race'] = data['Race'].replace(['Asian American/Some other race'], ['Two or more races'])\n",
    "data['Race'] = data['Race'].replace(['Black American or African American/Unknown'], ['Two or more races'])\n",
    "data['Race'] = data['Race'].replace(['Other'], ['Two or more races'])\n",
    "\n",
    "data['Race'].value_counts()"
   ]
  },
  {
   "cell_type": "code",
   "execution_count": 11,
   "metadata": {},
   "outputs": [
    {
     "data": {
      "image/png": "[encoded data removed]",
      "text/plain": [
       "<matplotlib.figure.Figure at 0x10e8b0f28>"
      ]
     },
     "metadata": {},
     "output_type": "display_data"
    }
   ],
   "source": [
    "A = data['Race'].value_counts()\n",
    "B = data['Race'].value_counts()\n",
    "\n",
    "\n",
    "B.plot(kind='bar')\n",
    "plt.show()"
   ]
  },
  {
   "cell_type": "markdown",
   "metadata": {},
   "source": [
    "** GENDER: **"
   ]
  },
  {
   "cell_type": "code",
   "execution_count": 12,
   "metadata": {},
   "outputs": [
    {
     "data": {
      "text/plain": [
       "Male           272\n",
       "Unknown         21\n",
       "M               20\n",
       "Female           5\n",
       "Male/Female      4\n",
       "M/F              1\n",
       "Name: Gender, dtype: int64"
      ]
     },
     "execution_count": 12,
     "metadata": {},
     "output_type": "execute_result"
    }
   ],
   "source": [
    "data['Gender'].value_counts()"
   ]
  },
  {
   "cell_type": "code",
   "execution_count": 13,
   "metadata": {},
   "outputs": [
    {
     "data": {
      "text/plain": [
       "Male       292\n",
       "Unknown     26\n",
       "Female       5\n",
       "Name: Gender, dtype: int64"
      ]
     },
     "execution_count": 13,
     "metadata": {},
     "output_type": "execute_result"
    }
   ],
   "source": [
    "data['Gender'] = data['Gender'].replace(['M'], ['Male'])\n",
    "data['Gender'] = data['Gender'].replace(['Male/Female'], ['Unknown'])\n",
    "data['Gender'] = data['Gender'].replace(['M/F'], ['Unknown'])\n",
    "data['Gender'] = data['Gender'].replace(['Unkown'], ['Unknown'])\n",
    "\n",
    "data['Gender'].value_counts()"
   ]
  },
  {
   "cell_type": "code",
   "execution_count": 14,
   "metadata": {},
   "outputs": [
    {
     "data": {
      "image/png": "[encoded data removed]",
      "text/plain": [
       "<matplotlib.figure.Figure at 0x11084c940>"
      ]
     },
     "metadata": {},
     "output_type": "display_data"
    }
   ],
   "source": [
    "A = data['Gender'].value_counts()\n",
    "B = data['Gender'].value_counts()\n",
    "\n",
    "\n",
    "B.plot(kind='bar')\n",
    "plt.show()"
   ]
  },
  {
   "cell_type": "markdown",
   "metadata": {},
   "source": [
    "# 5: Any correlation with calendar dates? Do we have more deadly days, weeks or months on average? <a name='timingcorrelation' />"
   ]
  },
  {
   "cell_type": "code",
   "execution_count": 15,
   "metadata": {},
   "outputs": [
    {
     "data": {
      "text/html": [
       "<div>\n",
       "<style scoped>\n",
       "    .dataframe tbody tr th:only-of-type {\n",
       "        vertical-align: middle;\n",
       "    }\n",
       "\n",
       "    .dataframe tbody tr th {\n",
       "        vertical-align: top;\n",
       "    }\n",
       "\n",
       "    .dataframe thead th {\n",
       "        text-align: right;\n",
       "    }\n",
       "</style>\n",
       "<table border=\"1\" class=\"dataframe\">\n",
       "  <thead>\n",
       "    <tr style=\"text-align: right;\">\n",
       "      <th></th>\n",
       "      <th>S#</th>\n",
       "      <th>Title</th>\n",
       "      <th>Location</th>\n",
       "      <th>Date</th>\n",
       "      <th>Incident Area</th>\n",
       "      <th>Open/Close Location</th>\n",
       "      <th>Target</th>\n",
       "      <th>Cause</th>\n",
       "      <th>Summary</th>\n",
       "      <th>Fatalities</th>\n",
       "      <th>...</th>\n",
       "      <th>Employeed (Y/N)</th>\n",
       "      <th>Employed at</th>\n",
       "      <th>Mental Health Issues</th>\n",
       "      <th>Race</th>\n",
       "      <th>Gender</th>\n",
       "      <th>Latitude</th>\n",
       "      <th>Longitude</th>\n",
       "      <th>Year</th>\n",
       "      <th>Month</th>\n",
       "      <th>Day</th>\n",
       "    </tr>\n",
       "  </thead>\n",
       "  <tbody>\n",
       "    <tr>\n",
       "      <th>0</th>\n",
       "      <td>1</td>\n",
       "      <td>Texas church mass shooting</td>\n",
       "      <td>Sutherland Springs, TX</td>\n",
       "      <td>2017-11-05</td>\n",
       "      <td>Church</td>\n",
       "      <td>Close</td>\n",
       "      <td>random</td>\n",
       "      <td>unknown</td>\n",
       "      <td>Devin Patrick Kelley, 26, an ex-air force offi...</td>\n",
       "      <td>26</td>\n",
       "      <td>...</td>\n",
       "      <td>NaN</td>\n",
       "      <td>NaN</td>\n",
       "      <td>No</td>\n",
       "      <td>White American or European American</td>\n",
       "      <td>Male</td>\n",
       "      <td>NaN</td>\n",
       "      <td>NaN</td>\n",
       "      <td>2017</td>\n",
       "      <td>11</td>\n",
       "      <td>5</td>\n",
       "    </tr>\n",
       "    <tr>\n",
       "      <th>1</th>\n",
       "      <td>2</td>\n",
       "      <td>Walmart shooting in suburban Denver</td>\n",
       "      <td>Thornton, CO</td>\n",
       "      <td>2017-11-01</td>\n",
       "      <td>Wal-Mart</td>\n",
       "      <td>Open</td>\n",
       "      <td>random</td>\n",
       "      <td>unknown</td>\n",
       "      <td>Scott Allen Ostrem, 47, walked into a Walmart ...</td>\n",
       "      <td>3</td>\n",
       "      <td>...</td>\n",
       "      <td>NaN</td>\n",
       "      <td>NaN</td>\n",
       "      <td>No</td>\n",
       "      <td>White American or European American</td>\n",
       "      <td>Male</td>\n",
       "      <td>NaN</td>\n",
       "      <td>NaN</td>\n",
       "      <td>2017</td>\n",
       "      <td>11</td>\n",
       "      <td>1</td>\n",
       "    </tr>\n",
       "    <tr>\n",
       "      <th>2</th>\n",
       "      <td>3</td>\n",
       "      <td>Edgewood businees park shooting</td>\n",
       "      <td>Edgewood, MD</td>\n",
       "      <td>2017-10-18</td>\n",
       "      <td>Remodeling Store</td>\n",
       "      <td>Close</td>\n",
       "      <td>coworkers</td>\n",
       "      <td>unknown</td>\n",
       "      <td>Radee Labeeb Prince, 37, fatally shot three pe...</td>\n",
       "      <td>3</td>\n",
       "      <td>...</td>\n",
       "      <td>NaN</td>\n",
       "      <td>Advance Granite Store</td>\n",
       "      <td>No</td>\n",
       "      <td>Black American or African American</td>\n",
       "      <td>Male</td>\n",
       "      <td>NaN</td>\n",
       "      <td>NaN</td>\n",
       "      <td>2017</td>\n",
       "      <td>10</td>\n",
       "      <td>18</td>\n",
       "    </tr>\n",
       "    <tr>\n",
       "      <th>3</th>\n",
       "      <td>4</td>\n",
       "      <td>Las Vegas Strip mass shooting</td>\n",
       "      <td>Las Vegas, NV</td>\n",
       "      <td>2017-10-01</td>\n",
       "      <td>Las Vegas Strip Concert outside Mandala Bay</td>\n",
       "      <td>Open</td>\n",
       "      <td>random</td>\n",
       "      <td>unknown</td>\n",
       "      <td>Stephen Craig Paddock, opened fire from the 32...</td>\n",
       "      <td>59</td>\n",
       "      <td>...</td>\n",
       "      <td>NaN</td>\n",
       "      <td>NaN</td>\n",
       "      <td>Unclear</td>\n",
       "      <td>White American or European American</td>\n",
       "      <td>Male</td>\n",
       "      <td>36.181271</td>\n",
       "      <td>-115.134132</td>\n",
       "      <td>2017</td>\n",
       "      <td>10</td>\n",
       "      <td>1</td>\n",
       "    </tr>\n",
       "    <tr>\n",
       "      <th>4</th>\n",
       "      <td>5</td>\n",
       "      <td>San Francisco UPS shooting</td>\n",
       "      <td>San Francisco, CA</td>\n",
       "      <td>2017-06-14</td>\n",
       "      <td>UPS facility</td>\n",
       "      <td>Close</td>\n",
       "      <td>coworkers</td>\n",
       "      <td>NaN</td>\n",
       "      <td>Jimmy Lam, 38, fatally shot three coworkers an...</td>\n",
       "      <td>3</td>\n",
       "      <td>...</td>\n",
       "      <td>1.0</td>\n",
       "      <td>NaN</td>\n",
       "      <td>Yes</td>\n",
       "      <td>White American or European American</td>\n",
       "      <td>Male</td>\n",
       "      <td>NaN</td>\n",
       "      <td>NaN</td>\n",
       "      <td>2017</td>\n",
       "      <td>6</td>\n",
       "      <td>14</td>\n",
       "    </tr>\n",
       "  </tbody>\n",
       "</table>\n",
       "<p>5 rows × 24 columns</p>\n",
       "</div>"
      ],
      "text/plain": [
       "   S#                                Title                Location       Date  \\\n",
       "0   1           Texas church mass shooting  Sutherland Springs, TX 2017-11-05   \n",
       "1   2  Walmart shooting in suburban Denver            Thornton, CO 2017-11-01   \n",
       "2   3      Edgewood businees park shooting            Edgewood, MD 2017-10-18   \n",
       "3   4        Las Vegas Strip mass shooting           Las Vegas, NV 2017-10-01   \n",
       "4   5           San Francisco UPS shooting       San Francisco, CA 2017-06-14   \n",
       "\n",
       "                                 Incident Area Open/Close Location     Target  \\\n",
       "0                                       Church               Close     random   \n",
       "1                                     Wal-Mart                Open     random   \n",
       "2                             Remodeling Store               Close  coworkers   \n",
       "3  Las Vegas Strip Concert outside Mandala Bay                Open     random   \n",
       "4                                 UPS facility               Close  coworkers   \n",
       "\n",
       "     Cause                                            Summary  Fatalities  \\\n",
       "0  unknown  Devin Patrick Kelley, 26, an ex-air force offi...          26   \n",
       "1  unknown  Scott Allen Ostrem, 47, walked into a Walmart ...           3   \n",
       "2  unknown  Radee Labeeb Prince, 37, fatally shot three pe...           3   \n",
       "3  unknown  Stephen Craig Paddock, opened fire from the 32...          59   \n",
       "4      NaN  Jimmy Lam, 38, fatally shot three coworkers an...           3   \n",
       "\n",
       "  ...   Employeed (Y/N)            Employed at  Mental Health Issues  \\\n",
       "0 ...               NaN                    NaN                    No   \n",
       "1 ...               NaN                    NaN                    No   \n",
       "2 ...               NaN  Advance Granite Store                    No   \n",
       "3 ...               NaN                    NaN               Unclear   \n",
       "4 ...               1.0                    NaN                   Yes   \n",
       "\n",
       "                                  Race  Gender   Latitude   Longitude  Year  \\\n",
       "0  White American or European American    Male        NaN         NaN  2017   \n",
       "1  White American or European American    Male        NaN         NaN  2017   \n",
       "2   Black American or African American    Male        NaN         NaN  2017   \n",
       "3  White American or European American    Male  36.181271 -115.134132  2017   \n",
       "4  White American or European American    Male        NaN         NaN  2017   \n",
       "\n",
       "  Month  Day  \n",
       "0    11    5  \n",
       "1    11    1  \n",
       "2    10   18  \n",
       "3    10    1  \n",
       "4     6   14  \n",
       "\n",
       "[5 rows x 24 columns]"
      ]
     },
     "execution_count": 15,
     "metadata": {},
     "output_type": "execute_result"
    }
   ],
   "source": [
    "import time\n",
    "import datetime\n",
    "data['Date'] = pd.to_datetime(data['Date'])\n",
    "data['Year'] = data['Date'].dt.year\n",
    "data['Month'] = data['Date'].dt.month\n",
    "data['Day'] = data['Date'].dt.day\n",
    "\n",
    "data.head()\n"
   ]
  },
  {
   "cell_type": "code",
   "execution_count": 42,
   "metadata": {},
   "outputs": [
    {
     "data": {
      "text/plain": [
       "Day\n",
       "1     127\n",
       "2      63\n",
       "3      40\n",
       "4       9\n",
       "5      72\n",
       "6      44\n",
       "7      70\n",
       "8      34\n",
       "9      39\n",
       "10     30\n",
       "11     13\n",
       "12     96\n",
       "13     11\n",
       "14     60\n",
       "15     38\n",
       "16     90\n",
       "17     39\n",
       "18     47\n",
       "19     33\n",
       "20     87\n",
       "21     45\n",
       "22     21\n",
       "23     34\n",
       "24     52\n",
       "25     33\n",
       "26     42\n",
       "27     29\n",
       "28     17\n",
       "29     61\n",
       "30     35\n",
       "31     22\n",
       "Name: Fatalities, dtype: int64"
      ]
     },
     "execution_count": 42,
     "metadata": {},
     "output_type": "execute_result"
    }
   ],
   "source": [
    "years = data.groupby([\"Year\"])[\"Fatalities\"].sum()\n",
    "last10years = years[30:41] \n",
    "last10years\n",
    "months = data.groupby([\"Month\"])[\"Fatalities\"].sum()\n",
    "months\n",
    "days = data.groupby([\"Day\"])[\"Fatalities\"].sum()\n",
    "days"
   ]
  },
  {
   "cell_type": "code",
   "execution_count": 43,
   "metadata": {},
   "outputs": [
    {
     "data": {
      "image/png": "[encoded data removed]",
      "text/plain": [
       "<matplotlib.figure.Figure at 0x10fee3940>"
      ]
     },
     "metadata": {},
     "output_type": "display_data"
    },
    {
     "data": {
      "image/png": "[encoded data removed]",
      "text/plain": [
       "<matplotlib.figure.Figure at 0x10feef390>"
      ]
     },
     "metadata": {},
     "output_type": "display_data"
    },
    {
     "data": {
      "image/png": "[encoded data removed]",
      "text/plain": [
       "<matplotlib.figure.Figure at 0x11d73d748>"
      ]
     },
     "metadata": {},
     "output_type": "display_data"
    }
   ],
   "source": [
    "last10years.plot(kind='bar')\n",
    "plt.show()\n",
    "months.plot(kind='bar')\n",
    "plt.show()\n",
    "days.plot(kind='bar')\n",
    "plt.show()"
   ]
  },
  {
   "cell_type": "markdown",
   "metadata": {},
   "source": [
    "** FINDINGS: What we can see here is that in terms of years 2015 and 2016 were significantly worse than any other year. 2017 was still pretty bad but was better than the previous two year. In terms of months I am not sure there are any real trends. I would argue that there is no real trend in the day, it is basically random which make sense, expect for the first of the month seems to be an outlier which is super interesting.  **"
   ]
  },
  {
   "cell_type": "markdown",
   "metadata": {},
   "source": [
    "# 6: What cities and states are more prone to such attacks? <a name='citiesstates' />"
   ]
  },
  {
   "cell_type": "markdown",
   "metadata": {},
   "source": [
    "** I decided to focus on states. **"
   ]
  },
  {
   "cell_type": "code",
   "execution_count": 44,
   "metadata": {},
   "outputs": [
    {
     "data": {
      "text/html": [
       "<div>\n",
       "<style scoped>\n",
       "    .dataframe tbody tr th:only-of-type {\n",
       "        vertical-align: middle;\n",
       "    }\n",
       "\n",
       "    .dataframe tbody tr th {\n",
       "        vertical-align: top;\n",
       "    }\n",
       "\n",
       "    .dataframe thead th {\n",
       "        text-align: right;\n",
       "    }\n",
       "</style>\n",
       "<table border=\"1\" class=\"dataframe\">\n",
       "  <thead>\n",
       "    <tr style=\"text-align: right;\">\n",
       "      <th></th>\n",
       "      <th>City</th>\n",
       "      <th>State</th>\n",
       "    </tr>\n",
       "  </thead>\n",
       "  <tbody>\n",
       "    <tr>\n",
       "      <th>0</th>\n",
       "      <td>Sutherland Springs</td>\n",
       "      <td>TX</td>\n",
       "    </tr>\n",
       "    <tr>\n",
       "      <th>1</th>\n",
       "      <td>Thornton</td>\n",
       "      <td>CO</td>\n",
       "    </tr>\n",
       "    <tr>\n",
       "      <th>2</th>\n",
       "      <td>Edgewood</td>\n",
       "      <td>MD</td>\n",
       "    </tr>\n",
       "    <tr>\n",
       "      <th>3</th>\n",
       "      <td>Las Vegas</td>\n",
       "      <td>NV</td>\n",
       "    </tr>\n",
       "    <tr>\n",
       "      <th>4</th>\n",
       "      <td>San Francisco</td>\n",
       "      <td>CA</td>\n",
       "    </tr>\n",
       "  </tbody>\n",
       "</table>\n",
       "</div>"
      ],
      "text/plain": [
       "                 City State\n",
       "0  Sutherland Springs    TX\n",
       "1            Thornton    CO\n",
       "2            Edgewood    MD\n",
       "3           Las Vegas    NV\n",
       "4       San Francisco    CA"
      ]
     },
     "execution_count": 44,
     "metadata": {},
     "output_type": "execute_result"
    }
   ],
   "source": [
    "data['Location']= data['Location'].astype(str)\n",
    "locations = pd.DataFrame(data['Location'].str.split(',').tolist(), columns = ['City','State','blah','',','])\n",
    "locations = locations[['City','State']]\n",
    "locations.head()"
   ]
  },
  {
   "cell_type": "markdown",
   "metadata": {},
   "source": [
    "need to make the cities and states uniform"
   ]
  },
  {
   "cell_type": "code",
   "execution_count": 45,
   "metadata": {},
   "outputs": [
    {
     "data": {
      "text/plain": [
       "array([' TX', ' CO', ' MD', ' NV', ' CA', ' PA', ' Florida', ' Ohio',\n",
       "       ' California', ' WA', ' LA', ' Texas', ' Missouri', None,\n",
       "       ' Virginia', ' North Carolina', ' Tennessee', ' Texas ',\n",
       "       ' Kentucky', ' Alabama', ' Pennsylvania', ' Kansas',\n",
       "       ' Massachusetts', '  Virginia', ' Washington', ' Arizona',\n",
       "       ' Michigan', ' Mississippi', ' Nebraska', ' Colorado',\n",
       "       ' Minnesota', ' Georgia', ' Maine', ' Oregon', ' South Dakota',\n",
       "       ' New York', ' Louisiana', ' Illinois', ' South Carolina',\n",
       "       ' Wisconsin', ' Montana', ' New Jersey', ' Indiana', ' Oklahoma',\n",
       "       ' New Mexico', ' Idaho', ' Souderton', ' West Virginia', ' Nevada',\n",
       "       ' Albuquerque', ' Connecticut', ' Arkansas', ' Utah', ' Lancaster',\n",
       "       ' Vermont', ' San Diego', ' Hawaii', ' Alaska', ' Wyoming',\n",
       "       ' Iowa'], dtype=object)"
      ]
     },
     "execution_count": 45,
     "metadata": {},
     "output_type": "execute_result"
    }
   ],
   "source": [
    "locations.State.unique()"
   ]
  },
  {
   "cell_type": "code",
   "execution_count": 46,
   "metadata": {
    "collapsed": true
   },
   "outputs": [],
   "source": [
    "locations['State'] = locations['State'].replace([' TX'], [' Texas '])\n",
    "locations['State'] = locations['State'].replace([' Texas'], [' Texas '])\n",
    "locations['State'] = locations['State'].replace([' CO'], [' Colorado'])\n",
    "locations['State'] = locations['State'].replace([' MD'], [' Maryland'])\n",
    "locations['State'] = locations['State'].replace([' NV'], [' Nevada'])\n",
    "locations['State'] = locations['State'].replace([' CA'], [' California'])\n",
    "locations['State'] = locations['State'].replace([' WA'], [' Washington'])\n",
    "locations['State'] = locations['State'].replace([' LA'], [' Louisiana'])\n",
    "locations['State'] = locations['State'].replace([' PA'], [' Pennsylvania'])"
   ]
  },
  {
   "cell_type": "code",
   "execution_count": 47,
   "metadata": {},
   "outputs": [
    {
     "data": {
      "text/plain": [
       "array([' Texas ', ' Colorado', ' Maryland', ' Nevada', ' California',\n",
       "       ' Pennsylvania', ' Florida', ' Ohio', ' Washington', ' Louisiana',\n",
       "       ' Missouri', None, ' Virginia', ' North Carolina', ' Tennessee',\n",
       "       ' Kentucky', ' Alabama', ' Kansas', ' Massachusetts', '  Virginia',\n",
       "       ' Arizona', ' Michigan', ' Mississippi', ' Nebraska', ' Minnesota',\n",
       "       ' Georgia', ' Maine', ' Oregon', ' South Dakota', ' New York',\n",
       "       ' Illinois', ' South Carolina', ' Wisconsin', ' Montana',\n",
       "       ' New Jersey', ' Indiana', ' Oklahoma', ' New Mexico', ' Idaho',\n",
       "       ' Souderton', ' West Virginia', ' Albuquerque', ' Connecticut',\n",
       "       ' Arkansas', ' Utah', ' Lancaster', ' Vermont', ' San Diego',\n",
       "       ' Hawaii', ' Alaska', ' Wyoming', ' Iowa'], dtype=object)"
      ]
     },
     "execution_count": 47,
     "metadata": {},
     "output_type": "execute_result"
    }
   ],
   "source": [
    "locations.State.unique()"
   ]
  },
  {
   "cell_type": "code",
   "execution_count": 48,
   "metadata": {},
   "outputs": [
    {
     "data": {
      "text/html": [
       "<div>\n",
       "<style scoped>\n",
       "    .dataframe tbody tr th:only-of-type {\n",
       "        vertical-align: middle;\n",
       "    }\n",
       "\n",
       "    .dataframe tbody tr th {\n",
       "        vertical-align: top;\n",
       "    }\n",
       "\n",
       "    .dataframe thead th {\n",
       "        text-align: right;\n",
       "    }\n",
       "</style>\n",
       "<table border=\"1\" class=\"dataframe\">\n",
       "  <thead>\n",
       "    <tr style=\"text-align: right;\">\n",
       "      <th></th>\n",
       "      <th>State</th>\n",
       "    </tr>\n",
       "  </thead>\n",
       "  <tbody>\n",
       "    <tr>\n",
       "      <th>California</th>\n",
       "      <td>30</td>\n",
       "    </tr>\n",
       "    <tr>\n",
       "      <th>Florida</th>\n",
       "      <td>20</td>\n",
       "    </tr>\n",
       "    <tr>\n",
       "      <th>Texas</th>\n",
       "      <td>18</td>\n",
       "    </tr>\n",
       "    <tr>\n",
       "      <th>Washington</th>\n",
       "      <td>15</td>\n",
       "    </tr>\n",
       "    <tr>\n",
       "      <th>Georgia</th>\n",
       "      <td>13</td>\n",
       "    </tr>\n",
       "    <tr>\n",
       "      <th>North Carolina</th>\n",
       "      <td>11</td>\n",
       "    </tr>\n",
       "    <tr>\n",
       "      <th>Arizona</th>\n",
       "      <td>11</td>\n",
       "    </tr>\n",
       "    <tr>\n",
       "      <th>Ohio</th>\n",
       "      <td>10</td>\n",
       "    </tr>\n",
       "    <tr>\n",
       "      <th>New York</th>\n",
       "      <td>10</td>\n",
       "    </tr>\n",
       "    <tr>\n",
       "      <th>Illinois</th>\n",
       "      <td>9</td>\n",
       "    </tr>\n",
       "  </tbody>\n",
       "</table>\n",
       "</div>"
      ],
      "text/plain": [
       "                 State\n",
       " California         30\n",
       " Florida            20\n",
       " Texas              18\n",
       " Washington         15\n",
       " Georgia            13\n",
       " North Carolina     11\n",
       " Arizona            11\n",
       " Ohio               10\n",
       " New York           10\n",
       " Illinois            9"
      ]
     },
     "execution_count": 48,
     "metadata": {},
     "output_type": "execute_result"
    }
   ],
   "source": [
    "statetotals = pd.DataFrame(locations['State'].value_counts())\n",
    "statetotals.head(n=10)"
   ]
  },
  {
   "cell_type": "code",
   "execution_count": 49,
   "metadata": {},
   "outputs": [
    {
     "data": {
      "image/png": "[encoded data removed]",
      "text/plain": [
       "<matplotlib.figure.Figure at 0x11d7ddbe0>"
      ]
     },
     "metadata": {},
     "output_type": "display_data"
    }
   ],
   "source": [
    "states = pd.DataFrame(locations['State'].value_counts())\n",
    "top10states = states[0:10]\n",
    "\n",
    "top10states.plot(kind='bar')\n",
    "plt.show()"
   ]
  },
  {
   "cell_type": "code",
   "execution_count": 50,
   "metadata": {
    "collapsed": true
   },
   "outputs": [],
   "source": [
    "statetotals = pd.DataFrame(locations['State'].value_counts())\n",
    "top20 = statetotals[0:20]"
   ]
  },
  {
   "cell_type": "code",
   "execution_count": 51,
   "metadata": {
    "collapsed": true
   },
   "outputs": [],
   "source": [
    "top20.to_csv(\"ratio.csv\")"
   ]
  },
  {
   "cell_type": "markdown",
   "metadata": {},
   "source": [
    "I used the cencus data for population to come up with which state has the highest ratio of mass shootings to population. \n",
    "\n",
    "https://www.census.gov/data/datasets/2016/demo/popest/state-total.html"
   ]
  },
  {
   "cell_type": "code",
   "execution_count": 52,
   "metadata": {},
   "outputs": [
    {
     "data": {
      "text/html": [
       "<div>\n",
       "<style scoped>\n",
       "    .dataframe tbody tr th:only-of-type {\n",
       "        vertical-align: middle;\n",
       "    }\n",
       "\n",
       "    .dataframe tbody tr th {\n",
       "        vertical-align: top;\n",
       "    }\n",
       "\n",
       "    .dataframe thead th {\n",
       "        text-align: right;\n",
       "    }\n",
       "</style>\n",
       "<table border=\"1\" class=\"dataframe\">\n",
       "  <thead>\n",
       "    <tr style=\"text-align: right;\">\n",
       "      <th></th>\n",
       "      <th>State</th>\n",
       "      <th>NumberofShootings</th>\n",
       "      <th>Population</th>\n",
       "      <th>Ratio</th>\n",
       "    </tr>\n",
       "  </thead>\n",
       "  <tbody>\n",
       "    <tr>\n",
       "      <th>12</th>\n",
       "      <td>Indiana</td>\n",
       "      <td>1</td>\n",
       "      <td>6,633,053</td>\n",
       "      <td>1.510000e-07</td>\n",
       "    </tr>\n",
       "    <tr>\n",
       "      <th>18</th>\n",
       "      <td>Maryland</td>\n",
       "      <td>1</td>\n",
       "      <td>6,016,447</td>\n",
       "      <td>1.660000e-07</td>\n",
       "    </tr>\n",
       "    <tr>\n",
       "      <th>13</th>\n",
       "      <td>Iowa</td>\n",
       "      <td>1</td>\n",
       "      <td>3,134,693</td>\n",
       "      <td>3.190000e-07</td>\n",
       "    </tr>\n",
       "    <tr>\n",
       "      <th>27</th>\n",
       "      <td>New Jersey</td>\n",
       "      <td>3</td>\n",
       "      <td>8,944,469</td>\n",
       "      <td>3.350000e-07</td>\n",
       "    </tr>\n",
       "    <tr>\n",
       "      <th>35</th>\n",
       "      <td>South Carolina</td>\n",
       "      <td>5</td>\n",
       "      <td>12,784,227</td>\n",
       "      <td>3.910000e-07</td>\n",
       "    </tr>\n",
       "    <tr>\n",
       "      <th>32</th>\n",
       "      <td>Oklahoma</td>\n",
       "      <td>5</td>\n",
       "      <td>11,614,373</td>\n",
       "      <td>4.310000e-07</td>\n",
       "    </tr>\n",
       "    <tr>\n",
       "      <th>23</th>\n",
       "      <td>Missouri</td>\n",
       "      <td>3</td>\n",
       "      <td>6,093,000</td>\n",
       "      <td>4.920000e-07</td>\n",
       "    </tr>\n",
       "    <tr>\n",
       "      <th>29</th>\n",
       "      <td>New York</td>\n",
       "      <td>10</td>\n",
       "      <td>19,745,289</td>\n",
       "      <td>5.060000e-07</td>\n",
       "    </tr>\n",
       "    <tr>\n",
       "      <th>43</th>\n",
       "      <td>West Virginia</td>\n",
       "      <td>1</td>\n",
       "      <td>1,831,102</td>\n",
       "      <td>5.460000e-07</td>\n",
       "    </tr>\n",
       "    <tr>\n",
       "      <th>19</th>\n",
       "      <td>Massachusetts</td>\n",
       "      <td>4</td>\n",
       "      <td>6,811,779</td>\n",
       "      <td>5.870000e-07</td>\n",
       "    </tr>\n",
       "  </tbody>\n",
       "</table>\n",
       "</div>"
      ],
      "text/plain": [
       "              State  NumberofShootings  Population         Ratio\n",
       "12          Indiana                  1   6,633,053  1.510000e-07\n",
       "18         Maryland                  1   6,016,447  1.660000e-07\n",
       "13             Iowa                  1   3,134,693  3.190000e-07\n",
       "27       New Jersey                  3   8,944,469  3.350000e-07\n",
       "35   South Carolina                  5  12,784,227  3.910000e-07\n",
       "32         Oklahoma                  5  11,614,373  4.310000e-07\n",
       "23         Missouri                  3   6,093,000  4.920000e-07\n",
       "29         New York                 10  19,745,289  5.060000e-07\n",
       "43    West Virginia                  1   1,831,102  5.460000e-07\n",
       "19    Massachusetts                  4   6,811,779  5.870000e-07"
      ]
     },
     "execution_count": 52,
     "metadata": {},
     "output_type": "execute_result"
    }
   ],
   "source": [
    "dataframe = pd.read_csv(\"stateratios.csv\")\n",
    "\n",
    "dataframe = dataframe.sort_values('Ratio')\n",
    "\n",
    "dataframe.head(n=10)"
   ]
  },
  {
   "cell_type": "markdown",
   "metadata": {},
   "source": [
    "** FINDINGS: Indiana, Maryland, Iowa, New Jersey, South Carolina, Oklahoma, Missouri, New York, West Virginia, Massachusetts are the top 10 states to live in terms of number of mass shootings per person. This is based on the most recent population statistics from the US Census estimates.**"
   ]
  },
  {
   "cell_type": "markdown",
   "metadata": {},
   "source": [
    "# 7: Can you find and combine any other external datasets to enrich the analysis, for example, gun ownership by state? <a name='otherdata' />"
   ]
  },
  {
   "cell_type": "markdown",
   "metadata": {},
   "source": [
    "Did this in question 6."
   ]
  },
  {
   "cell_type": "markdown",
   "metadata": {},
   "source": [
    "# 8: Any other pattern you see that can help in prediction, crowd safety or in-depth analysis of the event? <a name='otherpattern' />"
   ]
  },
  {
   "cell_type": "markdown",
   "metadata": {},
   "source": [
    "The \"pattern\" I wanted to explore is what the causes for the mass shootings were.  "
   ]
  },
  {
   "cell_type": "code",
   "execution_count": 53,
   "metadata": {},
   "outputs": [
    {
     "data": {
      "text/html": [
       "<div>\n",
       "<style scoped>\n",
       "    .dataframe tbody tr th:only-of-type {\n",
       "        vertical-align: middle;\n",
       "    }\n",
       "\n",
       "    .dataframe tbody tr th {\n",
       "        vertical-align: top;\n",
       "    }\n",
       "\n",
       "    .dataframe thead th {\n",
       "        text-align: right;\n",
       "    }\n",
       "</style>\n",
       "<table border=\"1\" class=\"dataframe\">\n",
       "  <thead>\n",
       "    <tr style=\"text-align: right;\">\n",
       "      <th></th>\n",
       "      <th>Cause</th>\n",
       "    </tr>\n",
       "  </thead>\n",
       "  <tbody>\n",
       "    <tr>\n",
       "      <th>psycho</th>\n",
       "      <td>68</td>\n",
       "    </tr>\n",
       "    <tr>\n",
       "      <th>terrorism</th>\n",
       "      <td>65</td>\n",
       "    </tr>\n",
       "    <tr>\n",
       "      <th>anger</th>\n",
       "      <td>44</td>\n",
       "    </tr>\n",
       "    <tr>\n",
       "      <th>frustration</th>\n",
       "      <td>18</td>\n",
       "    </tr>\n",
       "    <tr>\n",
       "      <th>domestic dispute</th>\n",
       "      <td>12</td>\n",
       "    </tr>\n",
       "    <tr>\n",
       "      <th>revenge</th>\n",
       "      <td>10</td>\n",
       "    </tr>\n",
       "    <tr>\n",
       "      <th>unemployement</th>\n",
       "      <td>10</td>\n",
       "    </tr>\n",
       "    <tr>\n",
       "      <th>racism</th>\n",
       "      <td>6</td>\n",
       "    </tr>\n",
       "    <tr>\n",
       "      <th>unknown</th>\n",
       "      <td>4</td>\n",
       "    </tr>\n",
       "    <tr>\n",
       "      <th>failing exams</th>\n",
       "      <td>3</td>\n",
       "    </tr>\n",
       "    <tr>\n",
       "      <th>religious radicalism</th>\n",
       "      <td>1</td>\n",
       "    </tr>\n",
       "    <tr>\n",
       "      <th>drunk</th>\n",
       "      <td>1</td>\n",
       "    </tr>\n",
       "    <tr>\n",
       "      <th>suspension</th>\n",
       "      <td>1</td>\n",
       "    </tr>\n",
       "    <tr>\n",
       "      <th>domestic disputer</th>\n",
       "      <td>1</td>\n",
       "    </tr>\n",
       "    <tr>\n",
       "      <th>breakup</th>\n",
       "      <td>1</td>\n",
       "    </tr>\n",
       "    <tr>\n",
       "      <th>robbery</th>\n",
       "      <td>1</td>\n",
       "    </tr>\n",
       "  </tbody>\n",
       "</table>\n",
       "</div>"
      ],
      "text/plain": [
       "                      Cause\n",
       "psycho                   68\n",
       "terrorism                65\n",
       "anger                    44\n",
       "frustration              18\n",
       "domestic dispute         12\n",
       "revenge                  10\n",
       "unemployement            10\n",
       "racism                    6\n",
       "unknown                   4\n",
       "failing exams             3\n",
       "religious radicalism      1\n",
       "drunk                     1\n",
       "suspension                1\n",
       "domestic disputer         1\n",
       "breakup                   1\n",
       "robbery                   1"
      ]
     },
     "execution_count": 53,
     "metadata": {},
     "output_type": "execute_result"
    }
   ],
   "source": [
    "causes = pd.DataFrame(data['Cause'].value_counts())\n",
    "causes"
   ]
  },
  {
   "cell_type": "code",
   "execution_count": 54,
   "metadata": {},
   "outputs": [
    {
     "data": {
      "image/png": "[encoded data removed]",
      "text/plain": [
       "<matplotlib.figure.Figure at 0x11d7ff320>"
      ]
     },
     "metadata": {},
     "output_type": "display_data"
    }
   ],
   "source": [
    "causes = data['Cause'].value_counts()\n",
    "\n",
    "causes = pd.DataFrame(data['Cause'].value_counts())\n",
    "\n",
    "causes.plot(kind='bar')\n",
    "plt.show()"
   ]
  },
  {
   "cell_type": "markdown",
   "metadata": {},
   "source": [
    "** FINDINGS: As you can see mental issues, terrorism (another form of mental issue), and anger have been the top 3 \"Causes\" for mass shootings in the US in the last 50 years. **"
   ]
  },
  {
   "cell_type": "markdown",
   "metadata": {},
   "source": [
    "# 9: How many shooters have some kind of mental health problem? Can we compare that shooter with general population with same condition? <a name='mentalhealth' />"
   ]
  },
  {
   "cell_type": "markdown",
   "metadata": {},
   "source": [
    "I decided to define mental health problems as \"psycho\" out of all the causes "
   ]
  },
  {
   "cell_type": "code",
   "execution_count": 55,
   "metadata": {},
   "outputs": [
    {
     "name": "stdout",
     "output_type": "stream",
     "text": [
      "The percentage of shooters that have a mental health problems is 27.642276 percent\n"
     ]
    }
   ],
   "source": [
    "totalshooterswithcauses = causes.sum()\n",
    "\n",
    "result = 68 / totalshooterswithcauses * 100\n",
    "print(\"The percentage of shooters that have a mental health problems is %f percent\" % (result))\n"
   ]
  },
  {
   "cell_type": "markdown",
   "metadata": {},
   "source": [
    "# 10: Final Results & Closing Thoughts: <a name='end' />\n"
   ]
  },
  {
   "cell_type": "markdown",
   "metadata": {},
   "source": [
    "** RESULTS: **\n",
    "\n",
    "** How many people were killed and injured per year?** \n",
    "28.098039 people were killed due to mass shootings per year. \n",
    "\n",
    "39.117647 people were injured due to mass shootings per year\n",
    "\n",
    "** Is there any correlation between shooter and his/her race, gender?**\n",
    "The answer is overwhelmingly white men. \n",
    "\n",
    "** Any correlation with calendar dates? Do we have more deadly days, weeks or months on average?**\n",
    "2015 and 2016 were the worst years for the number of fatalities due to mass shootings. The most deadly day of the month is the first. \n",
    "\n",
    "** What cities and states are more prone to such attacks?**\n",
    "California, Florida, Texas, Washington, and Georgia are the top five states with the highest number of mass shootings over the past 50 years. That being said, Indiana, Maryland, Iowa, New Jersey, and South Carolina have the highest number of mass shootings per population. \n",
    "\n",
    "** Any other pattern you see that can help in prediction, crowd safety or in-depth analysis of the event?**\n",
    "Mental issues, terrorism (another form of mental issue), and anger have been the top 3 \"Causes\" for mass shootings in the US in the past 50 years.\n",
    "\n",
    "** How many shooters have some kind of mental health problem? Can we compare that shooter with general population with same condition? **\n",
    "The percentage of shooters that have a mental health problems is 27.642276 percent.\n",
    "\n",
    " \n",
    "** CLOSING THOUGHTS: **\n",
    "- This notebook was created in 6 hours. I'm sure there are some errors in it. Feedback is highly encouraged!\n",
    "\n",
    "- Also, while I didn't answer every question precisely, I answered them to the best of my data science capabilities. \n",
    "\n",
    "- In doing so, I hope to have proven a significant amount of depth and variety in my data science skills. \n",
    "\n",
    "- If you have any questions, comments, or need to get in contact with me, check out my [about page](https://chasekregor.github.io/about/). "
   ]
  }
 ],
 "metadata": {
  "kernelspec": {
   "display_name": "Python 3",
   "language": "python",
   "name": "python3"
  },
  "language_info": {
   "codemirror_mode": {
    "name": "ipython",
    "version": 3
   },
   "file_extension": ".py",
   "mimetype": "text/x-python",
   "name": "python",
   "nbconvert_exporter": "python",
   "pygments_lexer": "ipython3",
   "version": "3.6.4"
  }
 },
 "nbformat": 4,
 "nbformat_minor": 2
}
